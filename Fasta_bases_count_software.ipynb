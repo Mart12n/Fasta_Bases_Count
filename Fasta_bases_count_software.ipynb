{
 "cells": [
  {
   "cell_type": "code",
   "execution_count": 17,
   "id": "b7190b26",
   "metadata": {
    "scrolled": true
   },
   "outputs": [
    {
     "name": "stdout",
     "output_type": "stream",
     "text": [
      "Enter a name of the file sequence (12).fasta\n",
      "# of adenine:  148052\n",
      "# of thymine:  145088\n",
      "# of cytosine:  115383\n",
      "# of guanine:  117078\n",
      "The percentage of adenine is:  28.16813514433953 %\n",
      "The percentage of thymine is:  27.604209276618576 %\n",
      "The percentage of cytosine is:  21.9525838040643 %\n",
      "The percentage of guanine is:  22.275071774977597 %\n"
     ]
    }
   ],
   "source": [
    "DNA = []\n",
    "\n",
    "#input a name of FASTA file\n",
    "write_file_name = input(\"Enter a name of the file \")\n",
    "\n",
    "with open(write_file_name, \"r\") as open_fasta: \n",
    "    for x in open_fasta:\n",
    "        if i[0] != \">\":\n",
    "            DNA.append(x)\n",
    "            \n",
    "\n",
    "Adenine = \"\".join(DNA).count('A')\n",
    "Thymine = \"\".join(DNA).count('T')\n",
    "Cytosine = \"\".join(DNA).count('C')\n",
    "Guanine = \"\".join(DNA).count('G')\n",
    "\n",
    "print(\"# of adenine: \", Adenine)\n",
    "print(\"# of thymine: \", Thymine) \n",
    "print(\"# of cytosine: \", Cytosine)\n",
    "print(\"# of guanine: \", Guanine)\n",
    "\n",
    "Total = Adenine + Thymine + Cytosine + Guanine\n",
    "\n",
    "Adenine_percentage = (Adenine/Total)*100\n",
    "Thymine_percentage = (Thymine/Total)*100\n",
    "Cytosine_percentage = (Cytosine/Total)*100\n",
    "Guanine_percentage = (Guanine/Total)*100\n",
    "\n",
    "\n",
    "print(\"The percentage of adenine is: \", Adenine_percentage, '%')\n",
    "print(\"The percentage of thymine is: \", Thymine_percentage, '%')\n",
    "print(\"The percentage of cytosine is: \", Cytosine_percentage, '%')\n",
    "print(\"The percentage of guanine is: \", Guanine_percentage, '%')"
   ]
  },
  {
   "cell_type": "code",
   "execution_count": null,
   "id": "ddc47895",
   "metadata": {},
   "outputs": [],
   "source": []
  },
  {
   "cell_type": "code",
   "execution_count": null,
   "id": "dae480cd",
   "metadata": {},
   "outputs": [],
   "source": []
  }
 ],
 "metadata": {
  "kernelspec": {
   "display_name": "Python 3 (ipykernel)",
   "language": "python",
   "name": "python3"
  },
  "language_info": {
   "codemirror_mode": {
    "name": "ipython",
    "version": 3
   },
   "file_extension": ".py",
   "mimetype": "text/x-python",
   "name": "python",
   "nbconvert_exporter": "python",
   "pygments_lexer": "ipython3",
   "version": "3.9.12"
  }
 },
 "nbformat": 4,
 "nbformat_minor": 5
}
